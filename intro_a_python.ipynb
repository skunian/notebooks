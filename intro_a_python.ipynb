{
 "cells": [
  {
   "cell_type": "markdown",
   "metadata": {},
   "source": [
    "\n",
    "\n",
    "# Une Introduction à Python"
   ]
  },
  {
   "cell_type": "markdown",
   "metadata": {},
   "source": [
    "# Sommaire\n",
    "<a href = \"#affectation\">I/ Affectation </a> <br \\>\n",
    "<a href = \"#operations\">II/ Quelques opérations de base </a> <br \\>\n",
    "<a href = \"#if\">III/ Condition If Else, If ... elif ... else </a> <br \\>\n",
    "<blockquote><a href = \"#exercice-if\">  Exercice </a></blockquote>\n",
    "<a href = \"#fonctions\">IV/ Fonctions </a> <br \\>\n",
    "<blockquote><a href = \"#exercice-fonctions\"> Exercices </a> </blockquote>"
   ]
  },
  {
   "cell_type": "markdown",
   "metadata": {},
   "source": [
    " ## <a name = \"affectation\">I/ Affectation    </a>"
   ]
  },
  {
   "cell_type": "code",
   "execution_count": null,
   "metadata": {},
   "outputs": [],
   "source": [
    "ma_variable = 3           #affecter 3 à la variable 'ma_variable'\n",
    "une_2eme_variable = 2.7   #affecter 2.7 à la variable 'une_2eme_variable'\n",
    "\n",
    "#Les variables sont typées à leur 1ère affectation : int (entier) pour 'ma_variable', float (flottant) pour l'autre.\n",
    "#Les noms de variables doivent commencer par une lettre ou un _, mais pas un chiffre, et sont sensibles à la casse.\n",
    "#Les noms de variables ne doivent contenir d'espace. On évitera les accents également.\n",
    "\n",
    "Somme = ma_variable + une_2eme_variable\n",
    "print(Somme)    # affiche la valeur contenue dans la variable Somme\n",
    "type(Somme)     # affiche le type de la variable Somme. Ici, int + float = float (conversion de type automatique si elle est possible)"
   ]
  },
  {
   "cell_type": "markdown",
   "metadata": {},
   "source": [
    "## <a name = \"operations\">II/ Quelques opérations de base  </a>"
   ]
  },
  {
   "cell_type": "code",
   "execution_count": null,
   "metadata": {},
   "outputs": [],
   "source": [
    "x = 2\n",
    "y = 4\n",
    "z = 31\n",
    "produit = x*y\n",
    "puissance = x**y\n",
    "quotient = x/y\n",
    "quotient_entier = x//y\n",
    "reste = z%y\n",
    "booleen1 = (x==y)\n",
    "booleen2 = (x!=y)\n",
    "print(\"x fois y = \", produit)\n",
    "print(\"x puissance y = \", puissance)\n",
    "print(\"x divisé par y = \", quotient)\n",
    "print(\"x divisé par y (division entière) = \", quotient_entier)\n",
    "print(\"z modulo y (reste de la division de z par y) = \", reste)\n",
    "print(\"x = y (test d'égalité) est : \", booleen1) # ne pas confondre == (test) avec le = d'affectation\n",
    "print(\"x différent de y (test de non égalité) : \", booleen2) "
   ]
  },
  {
   "cell_type": "markdown",
   "metadata": {},
   "source": [
    "## <a name = \"if\">III/ Condition if ... else,  condition  If .... elif ... else </a>"
   ]
  },
  {
   "cell_type": "markdown",
   "metadata": {},
   "source": [
    "### Exemple"
   ]
  },
  {
   "cell_type": "code",
   "execution_count": null,
   "metadata": {},
   "outputs": [],
   "source": [
    "# L'indentation est ce qui permet de définir les blocs d'instruction. \n",
    "# Les instructions if, else, elif, for, while ou les définition des fonctions se terminent toute par \":\"\n",
    "a = int(input(\"rentrez un nombre :\"))\n",
    "if a<2  :\n",
    "    print(\"vous avez rentré nombre dans l'intervalle [-infinity, 2[\")\n",
    "elif a<=2 and a<3 : \n",
    "    print(\"vous avez rentré un nombre dans l'intervalle [2, 3[\")\n",
    "else : \n",
    "    print(\"vous avez rentré un nombre supérieur strictement à 3\")\n",
    "    \n"
   ]
  },
  {
   "cell_type": "markdown",
   "metadata": {},
   "source": [
    "<strong>Remarque</strong> : `a =int (input (\"...\"))`\n",
    "    \n",
    "`input(\"...\")` demande à l'utilisateur d'écrire quelque chose, qu'on veut stocker dans une variable `a`. Le résultat de la fonction input() est au format str (string : chaine de caractère), y compris si l'utilisateur écrit un nombre. Le `int(...)` permet de convertir cette chaine en nombre entier afin que la variable a soit reconnue comme un nombre (entier). On aurait pu utiliser `float(input(...))` si le nombre rentré par l'utilisateur pouvait ne pas être un entier."
   ]
  },
  {
   "cell_type": "markdown",
   "metadata": {},
   "source": [
    "## <a name = \"exercice-if\">Exercice (IF ...Else) </a>"
   ]
  },
  {
   "cell_type": "markdown",
   "metadata": {},
   "source": [
    "#### 1) Ecrire un code python affichant le plus grand des deux nombres rentrés par l'utilisateur, et le tester avec le bouton <button class='btn btn-default btn-xs'><i class=\"icon-step-forward fa fa-step-forward\"></i></button> run"
   ]
  },
  {
   "cell_type": "code",
   "execution_count": null,
   "metadata": {},
   "outputs": [],
   "source": [
    "int(input(\"A = \"))\n",
    "int(input(\"B = \"))\n",
    "\n",
    "\n",
    "\n"
   ]
  },
  {
   "cell_type": "markdown",
   "metadata": {},
   "source": [
    "## <a name = \"fonctions\">IV/ Fonctions </a>"
   ]
  },
  {
   "cell_type": "markdown",
   "metadata": {},
   "source": [
    "On encapsule les codes effectuant certaines tâches simples dans des fonctions, afin d'améliorer la lisibilité du code.<br \\>\n",
    "Les fonctions commencent par le mot clef : <strong>def</strong>, et leur déclaration se termine par \" <strong>:</strong> \". <br \\>\n",
    "On doit indenter le corps de la fonction pour que Python sache où s'arrête le corps de la fonction. <br \\>\n",
    "La sytaxe est la suivante : \n",
    "<p> \n",
    "<strong>`def`</strong> `nom_de_fonction`(<em>`argument_1`</em>, <em>`argument_2`</em>,...) <strong>`:`</strong> <br \\>\n",
    "    <blockquote>corps de la fonction (indenté)</blockquote>\n",
    "</p>"
   ]
  },
  {
   "cell_type": "markdown",
   "metadata": {},
   "source": [
    "### Exemple"
   ]
  },
  {
   "cell_type": "code",
   "execution_count": null,
   "metadata": {},
   "outputs": [],
   "source": [
    "def discriminant(a, b, c) : \n",
    "    delta = b**2 - 4*a*c\n",
    "    return delta\n",
    "\n",
    "#test de la fonction\n",
    "D = discriminant(2, -3, 5)\n",
    "print(\"le discriminant de 2x² - 3x + 5 est : \", D)"
   ]
  },
  {
   "cell_type": "markdown",
   "metadata": {},
   "source": [
    "L'instruction <strong>`return`</strong> permet d'attribuer une valeur à l'expression : <strong>`fonction( )`</strong>, ce qui est pratique par exemple si la fonction fait un calcul que l'on veut pouvoir sauvegarder en le stockant dans une variable (comme à la ligne `D = discriminant(...)`). On peut toutefois imaginer des fonctions qui ne font que de l'affichage et qui ne renvoient aucune valeur. Elle n'auront pas d'instruction `return`, ou bien un `return` avec rien derrière."
   ]
  },
  {
   "cell_type": "markdown",
   "metadata": {},
   "source": [
    "## <a name = \"exercice-fonctions\"> Exercices (Fonctions)</a>"
   ]
  },
  {
   "cell_type": "markdown",
   "metadata": {},
   "source": [
    "#### 2) Ecrire une fonction minimum(a,b,c) qui renvoie le minimum de trois nombres\n",
    "*`et` s'écrit en python `and` <br \\>\n",
    "*`ou` s'écrit en python `or`"
   ]
  },
  {
   "cell_type": "code",
   "execution_count": null,
   "metadata": {},
   "outputs": [],
   "source": [
    "def minimum(a, b, c) : \n",
    "    \n",
    "    #code à écrire\n",
    "    \n",
    "    return         #valeur de retour de la fonction       \n",
    "\n",
    "#test de la fonction \n",
    "d = float(input(\"d = : \"))\n",
    "e = float(input(\"e = : \"))\n",
    "f = float(input(\"f = : \"))\n",
    "print(minimum(d, e, f))"
   ]
  },
  {
   "cell_type": "markdown",
   "metadata": {},
   "source": [
    "##### 3) Ecrire une fonction norme(a, b) qui calcule la norme d'un vecteur de coordonnées (a, b)\n",
    "Aide : racine(x) s'écrit en Python sqrt(x)  : square root of x, mais pour accéder à cette fonction, il faut importer le module math de python comme ci-dessous."
   ]
  },
  {
   "cell_type": "code",
   "execution_count": null,
   "metadata": {},
   "outputs": [],
   "source": [
    "from math import *  #code nécessaire pour accéder aux fonctions sqrt(), sin(), cos(), exp(), à pi etc...\n",
    "\n",
    "#code de la fonction \n",
    "\n",
    "        #A Compléter\n",
    "\n",
    "\n",
    "#test de la fonction\n",
    "\n",
    "        #A compléter"
   ]
  },
  {
   "cell_type": "markdown",
   "metadata": {},
   "source": [
    "##### 4) Ecrire une fonction est_isocele(xA, yA, xB, yB, xC, yC) qui renvoie Vrai si le triangle dont les sommets ont pour coordonnées (xA, yA) (xB, yB) (xC, yC) est isocèle et Faux sinon. \n",
    "On utilisera à l'intérieur de la fonction est_isocele() la fonction  norme(a, b) écrite précédemment.<br \\>\n"
   ]
  },
  {
   "cell_type": "code",
   "execution_count": null,
   "metadata": {},
   "outputs": [],
   "source": [
    "#code de la fonction\n",
    "def est_isocele(xA, yA, xB, yB, xC, yC):\n",
    "\n",
    "        #A compléter\n",
    "\n",
    "\n",
    "\n",
    "        \n",
    "    return   #A compléter\n",
    "    \n",
    "    \n",
    "#test de la fonction\n",
    "\n",
    "iso1 = est_isocèle(1, 2, 2, 5, 5, 6) \n",
    "print(iso1)  #doit afficher True\n",
    "\n",
    "iso2 = est_isocele(1, 2, 2, 5, 6, 5)\n",
    "print(iso2) #doit afficher False\n",
    "\n",
    "iso2 = est_isocele(1, 2, 3, 5, 4, 0)\n",
    "print(iso2) #doit afficher True"
   ]
  },
  {
   "cell_type": "markdown",
   "metadata": {},
   "source": [
    "##### 5) Ecrire une fonction solve(a, b, c) qui donne affiche les solutions de l'équation ax²+bx+c=0 si elle en a\n",
    "On utilisera à l'intérieur de la fonction solve() la fonction  discriminant(a, b, c) écrite précédemment.<br \\>"
   ]
  },
  {
   "cell_type": "code",
   "execution_count": null,
   "metadata": {},
   "outputs": [],
   "source": [
    "#definition de la fonction\n",
    "def solve(a, b, c):\n",
    "    \n",
    "        # A compléter\n",
    "        \n",
    "    if         :   # A compléter\n",
    "        print(\"pas de solution\")\n",
    "        return \n",
    "    elif       :   # A compléter\n",
    "                   # A compléter\n",
    "        print(\"il y a une solution :\")\n",
    "        return solution\n",
    "    else :\n",
    "        sol1 =               #A compléter\n",
    "        sol2 =               #A compléter\n",
    "        print(\"il y a 2 solutions distinctes\")\n",
    "        return sol1, sol2\n",
    "        \n",
    "#test de la fonction \n",
    "a = solve(2, 1, -3)  #2 solutions\n",
    "print(a)\n",
    "\n",
    "b = solve(1, 4, 4)   #1 solution\n",
    "print(b)\n",
    "\n",
    "c = solve(3, 2, 4)   #pas de solution\n",
    "print(c)"
   ]
  },
  {
   "cell_type": "markdown",
   "metadata": {},
   "source": [
    "##  <a name = \"for\">V/ Listes </a>\n",
    "Python permet de créer et manipuler des listes très simplement, avec une syntaxe proche de Matlab / Scilab : <strong>[</strong>elem0<strong>,</strong> elem1<strong>,</strong> ...<strong>,</strong> elem_n-1<strong>]</strong> <br \\>\n",
    "Le premier élément de la liste a pour index (ou indice) 0. <br \\>\n",
    "Le n-ième élément de la liste a pour index n-1"
   ]
  },
  {
   "cell_type": "markdown",
   "metadata": {},
   "source": [
    "### Exemple"
   ]
  },
  {
   "cell_type": "code",
   "execution_count": null,
   "metadata": {},
   "outputs": [],
   "source": [
    "a = [2, 4, \"bonjour\", True]     #liste a, d'éléments a[0], a[1], a[2], a[3]\n",
    "print(a[0])\n",
    "print(a[2])\n",
    "print(type(a))"
   ]
  },
  {
   "cell_type": "markdown",
   "metadata": {},
   "source": [
    "### Quelques opérations sur les listes"
   ]
  },
  {
   "cell_type": "code",
   "execution_count": null,
   "metadata": {},
   "outputs": [],
   "source": [
    "a = [2, 8]\n",
    "b = [4, 7, 5]\n",
    "\n",
    "c = a+b  #concaténation\n",
    "print(c)\n",
    "\n",
    "b.append(8) #ajout d'un élément à la fin de la liste\n",
    "print(b)\n",
    "\n",
    "del(b[2])   #supprime l'élément b[2] de la liste b. \n",
    "print(b)    \n",
    "\n",
    "d = [0]*5  #liste nulle à 5 éléments\n",
    "print(d)\n",
    "\n",
    "longueur = len(b)  #taille d'une liste\n",
    "print(\"la longueur de la liste b est : \", longueur)\n",
    "\n",
    "chaine = \"abcde\"   #Les chaines de caractères se comportent un peu comme des listes de lettres\n",
    "print(\"le caractère d'index 3 est : \", chaine[3])\n"
   ]
  },
  {
   "cell_type": "markdown",
   "metadata": {},
   "source": [
    "### création de sous-listes"
   ]
  },
  {
   "cell_type": "code",
   "execution_count": null,
   "metadata": {},
   "outputs": [],
   "source": [
    "a = [4, 7, 5, 12, 28, 143, 1000]\n",
    "\n",
    "b = a[:2]  # sous liste d'élements de a dont les indices vont du début à 2 exclu (donc à 1)\n",
    "print(b)\n",
    "\n",
    "c = a[2:]  # sous liste d'élements de a dont les indices vont de 2 à la fin\n",
    "print(c)\n",
    "\n",
    "e = a[3:5] # sous liste d'élements de a dont les indices vont de 3 inclus à 5 exclu (donc 3 et 4)\n",
    "print(e)"
   ]
  },
  {
   "cell_type": "markdown",
   "metadata": {},
   "source": [
    "##  <a name = \"for\">VI/ Boucle For </a>\n",
    "Boucle qui permet de répéter un bloc d'instructions. Pour cela, on fait parcourir à une variable un objet énumérable, comme une liste, ou un objet de type range()"
   ]
  },
  {
   "cell_type": "markdown",
   "metadata": {},
   "source": []
  },
  {
   "cell_type": "markdown",
   "metadata": {},
   "source": []
  },
  {
   "cell_type": "code",
   "execution_count": null,
   "metadata": {},
   "outputs": [],
   "source": []
  }
 ],
 "metadata": {
  "kernelspec": {
   "display_name": "Python 3",
   "language": "python",
   "name": "python3"
  },
  "language_info": {
   "codemirror_mode": {
    "name": "ipython",
    "version": 3
   },
   "file_extension": ".py",
   "mimetype": "text/x-python",
   "name": "python",
   "nbconvert_exporter": "python",
   "pygments_lexer": "ipython3",
   "version": "3.6.5"
  }
 },
 "nbformat": 4,
 "nbformat_minor": 2
}

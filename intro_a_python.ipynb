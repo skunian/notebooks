{
 "cells": [
  {
   "cell_type": "markdown",
   "metadata": {},
   "source": [
    "# Une Introduction à Python\n",
    "\n",
    "## Affectation"
   ]
  },
  {
   "cell_type": "code",
   "execution_count": 2,
   "metadata": {},
   "outputs": [
    {
     "name": "stdout",
     "output_type": "stream",
     "text": [
      "5.7\n"
     ]
    },
    {
     "data": {
      "text/plain": [
       "float"
      ]
     },
     "execution_count": 2,
     "metadata": {},
     "output_type": "execute_result"
    }
   ],
   "source": [
    "# On commente avec dièse avant le commentaire. Il court sur le reste de la ligne, ou bien avec deux blocs de trois apostrophes.\n",
    "\n",
    "ma_variable = 3           #affecter 3 à la variable 'ma_variable'\n",
    "une_2eme_variable = 2.7   #affecter 2.7 à la variable 'une_2eme_variable'\n",
    "\n",
    "#Les variables sont typées à leur 1ère affectation : int (entier) pour 'ma_variable', float (flottant) pour l'autre.\n",
    "#Les noms de variables doivent commencer par une lettre ou un _, mais pas un chiffre, et sont sensibles à la casse.\n",
    "#Les noms de variables ne doivent contenir d'espace. On évitera les accents également.\n",
    "\n",
    "Somme = ma_variable + une_2eme_variable\n",
    "print(Somme)    # affiche la valeur contenue dans la variable Somme\n",
    "type(Somme)     # affiche le type de la variable Somme. Ici, int + float = float (conversion de type automatique si elle est possible)"
   ]
  },
  {
   "cell_type": "markdown",
   "metadata": {},
   "source": [
    "## Quelques opérations de base"
   ]
  },
  {
   "cell_type": "code",
   "execution_count": 18,
   "metadata": {},
   "outputs": [
    {
     "name": "stdout",
     "output_type": "stream",
     "text": [
      "x fois y =  8\n",
      "x puissance y =  16\n",
      "x divisé par y =  0.5\n",
      "x divisé par y (division entière) =  0\n",
      "z modulo y (reste de la division de z par y) =  3\n",
      "x = y (test d'égalité) est :  False\n",
      "x (not =) y (test de non égalité) :  True\n"
     ]
    }
   ],
   "source": [
    "x = 2\n",
    "y = 4\n",
    "z = 31\n",
    "print(\"x fois y = \", x*y)\n",
    "print(\"x puissance y = \", x**y)\n",
    "print(\"x divisé par y = \", x/y)\n",
    "print(\"x divisé par y (division entière) = \", x//y)\n",
    "print(\"z modulo y (reste de la division de z par y) = \", z%y)\n",
    "print(\"x = y (test d'égalité) est : \", x==y) # ne pas confondre == (test) avec le = d'affectation\n",
    "print(\"x différent de y (test de non égalité) : \", x!=y) "
   ]
  },
  {
   "cell_type": "code",
   "execution_count": null,
   "metadata": {},
   "outputs": [],
   "source": []
  }
 ],
 "metadata": {
  "celltoolbar": "Edit Metadata",
  "kernelspec": {
   "display_name": "Python 3",
   "language": "python",
   "name": "python3"
  },
  "language_info": {
   "codemirror_mode": {
    "name": "ipython",
    "version": 3
   },
   "file_extension": ".py",
   "mimetype": "text/x-python",
   "name": "python",
   "nbconvert_exporter": "python",
   "pygments_lexer": "ipython3",
   "version": "3.6.5"
  }
 },
 "nbformat": 4,
 "nbformat_minor": 2
}

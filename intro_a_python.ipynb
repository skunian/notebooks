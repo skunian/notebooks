{
 "cells": [
  {
   "cell_type": "markdown",
   "metadata": {},
   "source": [
    "\n",
    "\n",
    "# Une Introduction à Python"
   ]
  },
  {
   "cell_type": "markdown",
   "metadata": {},
   "source": [
    "# Sommaire\n",
    "<a href = \"#affectation\">I/ Affectation </a> <br \\>\n",
    "<a href = \"#operations\">II/ Quelques opérations de base </a> <br \\>\n",
    "<a href = \"#if\">III/ Condition If Else, If ... elif ... else </a> <br \\>\n",
    "<a href = \"#exercice-if\">III/-1) Exercice (If) </a> <br \\>\n",
    "<a href = \"#fonctions\">IV/ Fonctions </a> <br \\>\n",
    "<a href = \"#exercice-fonctions\">IV/-1) Exercices (Fonctions) </a> <br \\>"
   ]
  },
  {
   "cell_type": "markdown",
   "metadata": {},
   "source": [
    " ## <a name = \"affectation\">I/ Affectation    </a>"
   ]
  },
  {
   "cell_type": "code",
   "execution_count": null,
   "metadata": {},
   "outputs": [],
   "source": [
    "ma_variable = 3           #affecter 3 à la variable 'ma_variable'\n",
    "une_2eme_variable = 2.7   #affecter 2.7 à la variable 'une_2eme_variable'\n",
    "\n",
    "#Les variables sont typées à leur 1ère affectation : int (entier) pour 'ma_variable', float (flottant) pour l'autre.\n",
    "#Les noms de variables doivent commencer par une lettre ou un _, mais pas un chiffre, et sont sensibles à la casse.\n",
    "#Les noms de variables ne doivent contenir d'espace. On évitera les accents également.\n",
    "\n",
    "Somme = ma_variable + une_2eme_variable\n",
    "print(Somme)    # affiche la valeur contenue dans la variable Somme\n",
    "type(Somme)     # affiche le type de la variable Somme. Ici, int + float = float (conversion de type automatique si elle est possible)"
   ]
  },
  {
   "cell_type": "markdown",
   "metadata": {},
   "source": [
    "## <a name = \"operations\">II/ Quelques opérations de base  </a>"
   ]
  },
  {
   "cell_type": "code",
   "execution_count": null,
   "metadata": {},
   "outputs": [],
   "source": [
    "x = 2\n",
    "y = 4\n",
    "z = 31\n",
    "produit = x*y\n",
    "puissance = x**y\n",
    "quotient = x/y\n",
    "quotient_entier = x//y\n",
    "reste = z%y\n",
    "booleen1 = (x==y)\n",
    "booleen2 = (x!=y)\n",
    "print(\"x fois y = \", produit)\n",
    "print(\"x puissance y = \", puissance)\n",
    "print(\"x divisé par y = \", quotient)\n",
    "print(\"x divisé par y (division entière) = \", quotient_entier)\n",
    "print(\"z modulo y (reste de la division de z par y) = \", reste)\n",
    "print(\"x = y (test d'égalité) est : \", booleen1) # ne pas confondre == (test) avec le = d'affectation\n",
    "print(\"x différent de y (test de non égalité) : \", booleen2) "
   ]
  },
  {
   "cell_type": "markdown",
   "metadata": {},
   "source": [
    "## <a name = \"if\">III/ Condition if ... else,  condition  If .... elif ... else </a>"
   ]
  },
  {
   "cell_type": "markdown",
   "metadata": {},
   "source": [
    "### Exemple"
   ]
  },
  {
   "cell_type": "code",
   "execution_count": null,
   "metadata": {},
   "outputs": [],
   "source": [
    "# L'indentation est ce qui permet de définir les blocs d'instruction. \n",
    "# Les instructions if, else, elif, for, while ou les définition des fonctions se terminent toute par \":\"\n",
    "a = int(input(\"rentrez un nombre :\"))\n",
    "if a<2  :\n",
    "    print(\"vous avez rentré nombre dans l'intervalle [-infinity, 2[\")\n",
    "elif a<=2 and a<3 : \n",
    "    print(\"vous avez rentré un nombre dans l'intervalle [2, 3[\")\n",
    "else : \n",
    "    print(\"vous avez rentré un nombre supérieur strictement à 3\")\n",
    "    \n"
   ]
  },
  {
   "cell_type": "markdown",
   "metadata": {},
   "source": [
    "<strong>Remarque :</strong> a = <strong>int (</strong> input (\"...\") <strong>)</strong> \n",
    "    \n",
    "input(\"...\") demande à l'utilisateur d'écrire quelque chose, qu'on veut stocker dans une variable a. Le résultat de la fonction input() est au format str (string : chaine de caractère), y compris si l'utilisateur écrit un nombre. Le int(...) permet de convertir cette chaine en nombre entier afin que la variable a soit reconnue comme un nombre (entier). On aurait pu utiliser float(input(...)) si le nombre rentré par l'utilisateur pouvait ne pas être un entier."
   ]
  },
  {
   "cell_type": "markdown",
   "metadata": {},
   "source": [
    "## <a name = \"exercice-if\">Exercice (IF ...Else) </a>"
   ]
  },
  {
   "cell_type": "code",
   "execution_count": null,
   "metadata": {},
   "outputs": [],
   "source": [
    "int(input(\"A = \"))\n",
    "int(input(\"B = \"))\n",
    "\n",
    "#Ecrire un code python affichant le plus grand des deux nombres rentrés par l'utilisateur, et le tester avec le bouton run\n",
    "\n",
    "\n",
    "\n"
   ]
  },
  {
   "cell_type": "markdown",
   "metadata": {},
   "source": [
    "## <a name = \"fonctions\">IV/ Fonctions </a>"
   ]
  },
  {
   "cell_type": "markdown",
   "metadata": {},
   "source": [
    "On encapsule les codes effectuant certaines tâches simples dans des fonctions, afin d'améliorer la lisibilité du code.<br \\>\n",
    "Les fonctions commencent par le mot clef : <strong>def</strong>, et leur déclaration se termine par \" <strong>:</strong> \". <br \\>\n",
    "On doit indenter le corps de la fonction pour que Python sache où s'arrête le corps de la fonction. <br \\>\n",
    "La sytaxe est la suivante : \n",
    "<p> \n",
    "<strong>def</strong> nom_de_fonction(<em>argument_1</em>, <em>argument_2</em>,...) <strong>:</strong> <br \\>\n",
    "    <blockquote>corps de la fonction (indenté)</blockquote>\n",
    "</p>"
   ]
  },
  {
   "cell_type": "markdown",
   "metadata": {},
   "source": [
    "### Exemple"
   ]
  },
  {
   "cell_type": "code",
   "execution_count": null,
   "metadata": {},
   "outputs": [],
   "source": [
    "def discriminant(a, b, c) : \n",
    "    delta = b**2 - 4*a*c\n",
    "    return delta\n",
    "\n",
    "#test de la fonction\n",
    "D = discriminant(2, -3, 5)\n",
    "print(\"le discriminant de 2x² - 3x + 5 est : \", D)"
   ]
  },
  {
   "cell_type": "markdown",
   "metadata": {},
   "source": [
    "L'instruction <strong>return</strong> permet d'attribuer une valeur à l'expression : <strong>fonction( )</strong>, ce qui est pratique par exemple si la fonction fait un calcul que l'on veut pouvoir sauvegarder en le stockant dans une variable (comme à la ligne D = discriminant(...)). On peut toutefois imaginer des fonctions qui ne font que de l'affichage et qui ne renvoient aucune valeur. Elle n'auront pas d'instruction return, ou bien un return avec rien derrière."
   ]
  },
  {
   "cell_type": "markdown",
   "metadata": {},
   "source": [
    "## <a name = \"exercice-fonctions\"> Exercices (Fonctions)</a>"
   ]
  },
  {
   "cell_type": "markdown",
   "metadata": {},
   "source": [
    "#### 1) Ecrire une fonction minimum(a,b) qui renvoie le minimum de deux nombres"
   ]
  },
  {
   "cell_type": "code",
   "execution_count": null,
   "metadata": {},
   "outputs": [],
   "source": [
    "def minimum(a, b) : \n",
    "    \n",
    "    #code à écrire\n",
    "    \n",
    "    return         #valeur de retour de la fonction       \n",
    "\n",
    "#test de la fonction \n",
    "c = int(input(\"c = : \"))\n",
    "d = int(input(\"d = : \"))\n",
    "print(minimum(c,d))"
   ]
  },
  {
   "cell_type": "markdown",
   "metadata": {},
   "source": [
    "##### 2) Ecrire une fonction norme(a, b) qui calcule la norme d'un vecteur de coordonnées (a, b)\n",
    "Aide : racine(x) s'écrit en Python sqrt(x)  : square root of x, mais pour accéder à cette fonction, il faut importer le module math de python comme ci-dessous."
   ]
  },
  {
   "cell_type": "code",
   "execution_count": null,
   "metadata": {},
   "outputs": [],
   "source": [
    "from math import *  #code nécessaire pour accéder aux fonctions sqrt(), sin(), cos(), exp(), à pi etc...\n",
    "\n",
    "#code de la fonction \n",
    "\n",
    "        #A Compléter\n",
    "\n",
    "\n",
    "#test de la fonction\n",
    "\n",
    "        #A compléter"
   ]
  },
  {
   "cell_type": "markdown",
   "metadata": {},
   "source": [
    "##### 2) Ecrire une fonction est_isocele(x1, y1, x2, y2, x3, y3) qui renvoie Vrai si le triangle dont les sommets ont pour coordonnées (x1, y1) (x2, y2) (x3, y3) est isocèle et Faux sinon. \n",
    "On utilisera la fonction  norme(a, b) écrite précédemment.\n"
   ]
  },
  {
   "cell_type": "code",
   "execution_count": null,
   "metadata": {},
   "outputs": [],
   "source": [
    "#code de la fonction\n",
    "\n",
    "\n",
    "        #A compléter\n",
    "\n",
    "\n",
    "\n",
    "#test de la fonction\n",
    "\n",
    "iso1 = est_isocèle(1, 2, 2, 5, 5, 6) \n",
    "print(iso1)  #doit afficher True\n",
    "\n",
    "iso2 = est_isocele(1, 2, 2, 5, 6, 5)\n",
    "print(iso2) #doit afficher False\n",
    "\n",
    "iso2 = est_isocele(1, 2, 3, 5, 4, 0)\n",
    "print(iso2) #doit afficher True"
   ]
  }
 ],
 "metadata": {
  "celltoolbar": "Edit Metadata",
  "kernelspec": {
   "display_name": "Python 3",
   "language": "python",
   "name": "python3"
  },
  "language_info": {
   "codemirror_mode": {
    "name": "ipython",
    "version": 3
   },
   "file_extension": ".py",
   "mimetype": "text/x-python",
   "name": "python",
   "nbconvert_exporter": "python",
   "pygments_lexer": "ipython3",
   "version": "3.6.5"
  }
 },
 "nbformat": 4,
 "nbformat_minor": 2
}

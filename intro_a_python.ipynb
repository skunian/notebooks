{
 "cells": [
  {
   "cell_type": "markdown",
   "metadata": {},
   "source": [
    "\n",
    "\n",
    "# Une Introduction à Python"
   ]
  },
  {
   "cell_type": "markdown",
   "metadata": {},
   "source": [
    "# <a name=\"sommaire\">Sommaire</a>\n",
    "<ol type = \"I\">\n",
    "    <li><a href = \"#affectation\"> Affectation </a> </li>\n",
    "    <li><a href = \"#operations\"> Quelques opérations de base </a> </li>\n",
    "    <li><a href = \"#if\"> Condition `If Else`, `If ... elif ... else` </a> \n",
    "        <ul ><li><a href = \"#exercice-if\">  Exercice </a></li></ul> \n",
    "    </li><br \\>\n",
    "    <li><a href = \"#fonctions\"> Fonctions `def f(x):` </a>\n",
    "        <ul type =\"i\"><li><a href = \"#exercice-fonctions\"> Exercices </a></li></ul> \n",
    "    </li><br \\>\n",
    "    <li><a href = \"#listes\"> Listes </a> </li>\n",
    "    <li><a href = \"#for\"> Boucles `FOR` </a>  \n",
    "        <ul type =\"i\">\n",
    "            <li><a href = \"#range\"> L'instruction `range()`</a></li>\n",
    "            <li><a href = \"#aleatoire\"> Un peu d'aléatoire </a></li>\n",
    "            <li><a href = \"#exercice-for\"> Exercices</a></li>        \n",
    "        </ul> \n",
    "    </li>\n",
    "    <li><a href = \"#while\"> Boucles `WHILE` </a>\n",
    "        <ul type =\"i\">\n",
    "            <li><a href = \"#exercice-while\"> Exercices</a></li>        \n",
    "        </ul>\n",
    "    </li>\n",
    "    <li><a href = \"#graphiques\"> Graphiques</a>\n",
    "         <ul type =\"i\">\n",
    "            <li><a href = \"#import\"> Précision sur l'import de modules</a></li>\n",
    "        </ul>\n",
    "    </li><br \\>\n",
    "    <li><a href = \"#aller_plus_loin\"> Aller plus loin</a>\n",
    "        <ul type =\"i\">\n",
    "            <li><a href = \"#local_global\"> Variables locales / globales</a></li>\n",
    "            <li><a href = \"#arguments\"> Arguments d'une fonction </a></li>\n",
    "            <li><a href = \"#copie\"> Copie d'un objet Python</a></li>        \n",
    "        </ul> \n",
    "    </li>\n",
    "</ol>"
   ]
  },
  {
   "cell_type": "markdown",
   "metadata": {},
   "source": [
    " ## <a name = \"affectation\"> <a href = \"#sommaire\">1. Affectation </a>   </a>"
   ]
  },
  {
   "cell_type": "code",
   "execution_count": null,
   "metadata": {},
   "outputs": [],
   "source": [
    "ma_variable = 3           #affecter 3 à la variable 'ma_variable'\n",
    "une_2eme_variable = 2.7   #affecter 2.7 à la variable 'une_2eme_variable'\n",
    "\n",
    "#Les variables sont typées à leur 1ère affectation : int (entier) pour 'ma_variable', float (flottant) pour l'autre.\n",
    "#Les noms de variables doivent commencer par une lettre ou un _, mais pas un chiffre, et sont sensibles à la casse.\n",
    "#Les noms de variables ne doivent pas contenir d'espace. On évitera les accents également.\n",
    "\n",
    "Somme = ma_variable + une_2eme_variable\n",
    "print(Somme)    # affiche la valeur contenue dans la variable Somme\n",
    "type(Somme)     # affiche le type de la variable Somme. Ici, int + float = float (conversion de type automatique si elle est possible)"
   ]
  },
  {
   "cell_type": "markdown",
   "metadata": {},
   "source": [
    "## <a name = \"operations\"><a href = \"#sommaire\">2. Quelques opérations de base </a> </a>"
   ]
  },
  {
   "cell_type": "code",
   "execution_count": null,
   "metadata": {},
   "outputs": [],
   "source": [
    "x = 2\n",
    "y = 4\n",
    "z = 31\n",
    "produit = x*y\n",
    "puissance = x**y\n",
    "quotient = x/y\n",
    "quotient_entier = x//y\n",
    "reste = z%y\n",
    "booleen1 = (x==y)\n",
    "booleen2 = (x!=y)\n",
    "print(\"x fois y = \", produit)\n",
    "print(\"x puissance y = \", puissance)\n",
    "print(\"x divisé par y = \", quotient)\n",
    "print(\"x divisé par y (division entière) = \", quotient_entier)\n",
    "print(\"z modulo y (reste de la division de z par y) = \", reste)\n",
    "print(\"x = y (test d'égalité) est : \", booleen1) # ne pas confondre == (test) avec le = d'affectation\n",
    "print(\"x différent de y (test de non égalité) : \", booleen2) "
   ]
  },
  {
   "cell_type": "markdown",
   "metadata": {},
   "source": [
    "## <a name = \"if\"><a href = \"#sommaire\">3. Condition if ... else,  condition  If .... elif ... else </a></a>"
   ]
  },
  {
   "cell_type": "markdown",
   "metadata": {},
   "source": [
    "### 3.1. Exemple"
   ]
  },
  {
   "cell_type": "code",
   "execution_count": null,
   "metadata": {},
   "outputs": [],
   "source": [
    "# L'indentation est ce qui permet de définir les blocs d'instruction. \n",
    "# Les instructions if, else, elif, for, while ou les définition des fonctions se terminent toute par \":\"\n",
    "a = int(input(\"rentrez un nombre :\"))\n",
    "if a<2  :\n",
    "    print(\"vous avez rentré nombre dans l'intervalle [-infinity, 2[\")\n",
    "elif a<=2 and a<3 : \n",
    "    print(\"vous avez rentré un nombre dans l'intervalle [2, 3[\")\n",
    "else : \n",
    "    print(\"vous avez rentré un nombre supérieur à 3\")\n",
    "    \n"
   ]
  },
  {
   "cell_type": "markdown",
   "metadata": {},
   "source": [
    "<strong>Remarque</strong> : `a =int (input (\"...\"))`\n",
    "    \n",
    "`input(\"...\")` demande à l'utilisateur d'écrire quelque chose, qu'on veut stocker dans une variable `a`. Le résultat de la fonction `input()` est au format `str` (string : chaine de caractère), y compris si l'utilisateur écrit un nombre. Le `int(...)` permet de convertir cette chaine en nombre entier afin que la variable a soit reconnue comme un nombre (entier). On aurait pu utiliser `float(input(...))` si le nombre rentré par l'utilisateur pouvait ne pas être un entier."
   ]
  },
  {
   "cell_type": "markdown",
   "metadata": {},
   "source": [
    "### <a name = \"exercice-if\"><a href = \"#sommaire\">3.2. Exercice (IF ...Else)</a> </a>"
   ]
  },
  {
   "cell_type": "markdown",
   "metadata": {},
   "source": [
    "#### <u>EXERCICE 1</u> :  Ecrire un code python affichant le plus grand des deux nombres rentrés par l'utilisateur, et le tester avec le bouton <button class='btn btn-default btn-xs'><i class=\"icon-step-forward fa fa-step-forward\"></i></button> run"
   ]
  },
  {
   "cell_type": "code",
   "execution_count": null,
   "metadata": {},
   "outputs": [],
   "source": [
    "a = int(input(\"A = \"))\n",
    "b = int(input(\"B = \"))\n",
    "\n",
    "\n",
    "#A compléter\n"
   ]
  },
  {
   "cell_type": "markdown",
   "metadata": {},
   "source": [
    "## <a name = \"fonctions\"><a href = \"#sommaire\">4. Fonctions </a></a>"
   ]
  },
  {
   "cell_type": "markdown",
   "metadata": {},
   "source": [
    "On encapsule les codes effectuant certaines tâches simples dans des fonctions, afin d'améliorer la lisibilité du code.<br \\>\n",
    "Les fonctions commencent par le mot clef : <strong>def</strong>, et leur déclaration se termine par \" <strong>:</strong> \". <br \\>\n",
    "On doit indenter le corps de la fonction pour que Python sache où s'arrête le corps de la fonction. <br \\>\n",
    "La syntaxe est la suivante : \n",
    "<p> \n",
    "<strong>`def`</strong> `nom_de_fonction`(<em>`argument_1`</em>, <em>`argument_2`</em>,...) <strong>`:`</strong> <br \\>\n",
    "    <blockquote>corps de la fonction (indenté)</blockquote>\n",
    "</p>"
   ]
  },
  {
   "cell_type": "markdown",
   "metadata": {},
   "source": [
    "### 4.1. Exemple"
   ]
  },
  {
   "cell_type": "code",
   "execution_count": 12,
   "metadata": {},
   "outputs": [
    {
     "name": "stdout",
     "output_type": "stream",
     "text": [
      "le discriminant de 2x² - 3x + 5 est :  -31\n"
     ]
    }
   ],
   "source": [
    "def discriminant(a, b, c) : \n",
    "    delta = b**2 - 4*a*c\n",
    "    return delta\n",
    "\n",
    "#test de la fonction\n",
    "D = discriminant(2, -3, 5)\n",
    "print(\"le discriminant de 2x² - 3x + 5 est : \", D)"
   ]
  },
  {
   "cell_type": "markdown",
   "metadata": {},
   "source": [
    "L'instruction <strong>`return`</strong> permet d'attribuer une valeur à l'expression : <strong>`fonction( )`</strong>, ce qui est pratique par exemple si la fonction fait un calcul que l'on veut pouvoir sauvegarder en le stockant dans une variable (comme à la ligne `D = discriminant(...)`). On peut toutefois imaginer des fonctions qui ne font que de l'affichage et qui ne renvoient aucune valeur. Elle n'auront pas d'instruction `return`, ou bien un `return` avec rien derrière."
   ]
  },
  {
   "cell_type": "markdown",
   "metadata": {},
   "source": [
    "### <a name = \"exercice-fonctions\"> <a href = \"#sommaire\">4.2. Exercices (Fonctions)</a></a>"
   ]
  },
  {
   "cell_type": "markdown",
   "metadata": {},
   "source": [
    "#### <u>EXERCICE 2</u> : Ecrire une fonction minimum(a,b,c) qui renvoie le minimum de trois nombres\n",
    "*`et` s'écrit en python `and` <br \\>\n",
    "*`ou` s'écrit en python `or`"
   ]
  },
  {
   "cell_type": "code",
   "execution_count": null,
   "metadata": {},
   "outputs": [],
   "source": [
    "def minimum(a, b, c) : \n",
    "    \n",
    "    #code à écrire\n",
    "    \n",
    "    return         #valeur de retour de la fonction       \n",
    "\n",
    "#test de la fonction \n",
    "d = float(input(\"d = : \"))\n",
    "e = float(input(\"e = : \"))\n",
    "f = float(input(\"f = : \"))\n",
    "print(minimum(d, e, f))"
   ]
  },
  {
   "cell_type": "markdown",
   "metadata": {},
   "source": [
    "#### <u>EXERCICE 3</u> : Ecrire une fonction `norme(a, b)` qui calcule la norme d'un vecteur de coordonnées (a, b)\n",
    "Aide : racine(x) s'écrit en Python `sqrt(x)`  : square root of x, mais pour accéder à cette fonction, il faut importer le module math de python comme ci-dessous."
   ]
  },
  {
   "cell_type": "code",
   "execution_count": null,
   "metadata": {},
   "outputs": [],
   "source": [
    "from math import *  #code nécessaire pour accéder aux fonctions sqrt(), sin(), cos(), exp(), à pi etc...\n",
    "\n",
    "#code de la fonction \n",
    "\n",
    "        #A Compléter\n",
    "\n",
    "\n",
    "#test de la fonction\n",
    "\n",
    "        #A compléter"
   ]
  },
  {
   "cell_type": "markdown",
   "metadata": {},
   "source": [
    "#### <u>EXERCICE 4</u> :  Ecrire une fonction `est_isocele(xA, yA, xB, yB, xC, yC)` qui renvoie Vrai si le triangle dont les sommets ont pour coordonnées (xA, yA) (xB, yB) (xC, yC) est isocèle et Faux sinon. \n",
    "On utilisera à l'intérieur de la fonction est_isocele() la fonction  norme(a, b) écrite précédemment.<br \\>\n"
   ]
  },
  {
   "cell_type": "code",
   "execution_count": null,
   "metadata": {},
   "outputs": [],
   "source": [
    "#code de la fonction\n",
    "def est_isocele(xA, yA, xB, yB, xC, yC):\n",
    "\n",
    "        #A compléter\n",
    "\n",
    "\n",
    "\n",
    "        \n",
    "    return   #A compléter\n",
    "    \n",
    "    \n",
    "#test de la fonction\n",
    "\n",
    "iso1 = est_isocèle(1, 2, 2, 5, 5, 6) \n",
    "print(iso1)  #doit afficher True\n",
    "\n",
    "iso2 = est_isocele(1, 2, 2, 5, 6, 5)\n",
    "print(iso2) #doit afficher False\n",
    "\n",
    "iso2 = est_isocele(1, 2, 3, 5, 4, 0)\n",
    "print(iso2) #doit afficher True"
   ]
  },
  {
   "cell_type": "markdown",
   "metadata": {},
   "source": [
    "#### <u>EXERCICE 5</u> :  Ecrire une fonction `solve(a, b, c)` qui donne affiche les solutions de l'équation ax²+bx+c=0 si elle en a\n",
    "On utilisera à l'intérieur de la fonction `solve()` la fonction  `discriminant(a, b, c)` écrite précédemment.<br \\>"
   ]
  },
  {
   "cell_type": "code",
   "execution_count": null,
   "metadata": {},
   "outputs": [],
   "source": [
    "from math import *\n",
    "\n",
    "#definition de la fonction\n",
    "def solve(a, b, c):\n",
    "   \n",
    "    # A compléter\n",
    "           \n",
    "    if         :   # A compléter\n",
    "        print(\"pas de solution\")\n",
    "        return \n",
    "    elif       :   # A compléter\n",
    "        \n",
    "                       # A compléter\n",
    "        print(\"il y a une solution\")\n",
    "        return sol   # A compléter\n",
    "    else :\n",
    "                    #A compléter\n",
    "                    #A compléter\n",
    "        print(\"il y a 2 solutions distinctes\")\n",
    "        return sol1, sol2\n",
    "        \n",
    "#test de la fonction \n",
    "a = solve(2, 1, -3)  #2 solutions\n",
    "print(\"valeur de retour de la fonction solve() : \", a, \"\\n\")\n",
    "\n",
    "b = solve(1, 4, 4)   #1 solution\n",
    "print(\"valeur de retour de la fonction solve() : \", b, \"\\n\")\n",
    "\n",
    "c = solve(3, 2, 4)   #pas de solution\n",
    "print(\"valeur de retour de la fonction solve() : \", c)"
   ]
  },
  {
   "cell_type": "markdown",
   "metadata": {},
   "source": [
    "##  <a name = \"listes\"><a href = \"#sommaire\">5. Listes </a></a>\n",
    "Python permet de créer et manipuler des listes très simplement, avec une syntaxe proche de Matlab / Scilab : `[elem0, elem1, ..., elem(n-1)]` <br \\>\n",
    "Le premier élément de la liste a pour index (ou indice) 0. <br \\>\n",
    "Le n-ième élément de la liste a pour index n-1"
   ]
  },
  {
   "cell_type": "markdown",
   "metadata": {},
   "source": [
    "### 5.1. Exemple"
   ]
  },
  {
   "cell_type": "code",
   "execution_count": 4,
   "metadata": {},
   "outputs": [
    {
     "name": "stdout",
     "output_type": "stream",
     "text": [
      "2\n",
      "bonjour\n",
      "<class 'list'>\n"
     ]
    }
   ],
   "source": [
    "a = [2, 4, \"bonjour\", True]     #liste a, d'éléments a[0], a[1], a[2], a[3]\n",
    "print(a[0])\n",
    "print(a[2])\n",
    "print(type(a))"
   ]
  },
  {
   "cell_type": "markdown",
   "metadata": {},
   "source": [
    "### 5.2. Quelques opérations sur les listes"
   ]
  },
  {
   "cell_type": "code",
   "execution_count": 8,
   "metadata": {},
   "outputs": [
    {
     "name": "stdout",
     "output_type": "stream",
     "text": [
      "[2, 8, 4, 7, 5]\n",
      "[4, 7, 5, 8]\n",
      "[4, 7, 8]\n",
      "[0, 0, 0, 0, 0]\n",
      "la longueur de la liste b est :  3\n",
      "le caractère d'index 3 est :  d\n"
     ]
    }
   ],
   "source": [
    "a = [2, 8]\n",
    "b = [4, 7, 5]\n",
    "\n",
    "#1\n",
    "c = a+b  #concaténation\n",
    "print(c)\n",
    "\n",
    "#2\n",
    "b.append(8) #ajout d'un élément à la fin de la liste\n",
    "print(b)\n",
    "\n",
    "#3\n",
    "del(b[2])   #supprime l'élément b[2] de la liste b. \n",
    "print(b)    \n",
    "\n",
    "#4\n",
    "d = [0]*5  #liste nulle à 5 éléments\n",
    "print(d)\n",
    "\n",
    "#5\n",
    "longueur = len(b)  #taille d'une liste\n",
    "print(\"la longueur de la liste b est : \", longueur)\n",
    "\n",
    "#6\n",
    "chaine = \"abcde\"   #Les chaines de caractères se comportent un peu comme des listes de lettres\n",
    "print(\"le caractère d'index 3 est : \", chaine[3])\n"
   ]
  },
  {
   "cell_type": "markdown",
   "metadata": {},
   "source": [
    "### 5.3. Création de sous-listes"
   ]
  },
  {
   "cell_type": "code",
   "execution_count": 7,
   "metadata": {},
   "outputs": [
    {
     "name": "stdout",
     "output_type": "stream",
     "text": [
      "[4, 7]\n",
      "[5, 12, 28, 143, 1000]\n",
      "[12, 28, 143]\n"
     ]
    }
   ],
   "source": [
    "a = [4, 7, 5, 12, 28, 143, 1000]\n",
    "\n",
    "b = a[:2]  # sous liste d'élements de a dont les indices vont du début à 2 exclu (donc à 1)\n",
    "print(b)\n",
    "\n",
    "c = a[2:]  # sous liste d'élements de a dont les indices vont de 2 à la fin\n",
    "print(c)\n",
    "\n",
    "e = a[3:6] # sous liste d'élements de a dont les indices vont de 3 inclus à 6 exclu (donc 3 et 5)\n",
    "print(e)"
   ]
  },
  {
   "cell_type": "markdown",
   "metadata": {},
   "source": [
    "##  <a name = \"for\"><a href = \"#sommaire\">6. Boucle For </a> </a>\n",
    "Boucle qui permet de répéter un bloc d'instructions. Pour cela, on fait parcourir à une variable un objet énumérable, comme une liste, ou un objet de type `range()` (voir plus bas) avec l'instruction : <br \\><br \\>\n",
    "`for variable in list :`\n",
    "<blockquote> bloc d'instructions à répéter </blockquote>\n",
    "Le bloc d'instructions est répété autant de fois qu'il y a d'élément dans la liste parcourue par la boucle for"
   ]
  },
  {
   "cell_type": "markdown",
   "metadata": {},
   "source": [
    "### 6.1. Exemple"
   ]
  },
  {
   "cell_type": "code",
   "execution_count": 20,
   "metadata": {},
   "outputs": [
    {
     "name": "stdout",
     "output_type": "stream",
     "text": [
      "2 4\n",
      "bonjour\n",
      "\n",
      "5 25\n",
      "bonjour\n",
      "\n",
      "8 64\n",
      "bonjour\n",
      "\n"
     ]
    }
   ],
   "source": [
    "a = [2, 5, 8]\n",
    "for i in a : \n",
    "    print(i, i*i)\n",
    "    print(\"bonjour\\n\")  #\\n est le caractère de saut de ligne"
   ]
  },
  {
   "cell_type": "markdown",
   "metadata": {},
   "source": [
    "### <a name = \"range\"><a href = \"#sommaire\">6.2. L'instruction `range()`</a></a>\n",
    "`range()` crée un objet énumérable (comme une liste) contenant des entiers consécutifs entre deux bornes"
   ]
  },
  {
   "cell_type": "code",
   "execution_count": 3,
   "metadata": {},
   "outputs": [
    {
     "name": "stdout",
     "output_type": "stream",
     "text": [
      "0\n",
      "1\n",
      "2\n",
      "3\n",
      "4\n",
      "5\n",
      "6\n",
      "7\n",
      "8\n",
      "9\n"
     ]
    }
   ],
   "source": [
    "for i in range(10):\n",
    "    print(i)"
   ]
  },
  {
   "cell_type": "code",
   "execution_count": 4,
   "metadata": {},
   "outputs": [
    {
     "name": "stdout",
     "output_type": "stream",
     "text": [
      "3\n",
      "4\n",
      "5\n",
      "6\n",
      "7\n",
      "8\n",
      "9\n"
     ]
    }
   ],
   "source": [
    "for i in range(3,10):\n",
    "    print(i)"
   ]
  },
  {
   "cell_type": "code",
   "execution_count": 5,
   "metadata": {},
   "outputs": [
    {
     "name": "stdout",
     "output_type": "stream",
     "text": [
      "1\n",
      "4\n",
      "7\n",
      "10\n",
      "13\n",
      "16\n",
      "19\n"
     ]
    }
   ],
   "source": [
    "for i in range(1, 20, 3): #on peut préciser le pas, comme pour une suite arithmétique. Le pas doit être entier\n",
    "    print(i)"
   ]
  },
  {
   "cell_type": "markdown",
   "metadata": {},
   "source": [
    "### <a name=\"aleatoire\"><a href = \"#sommaire\"> 6.3. Un peu d'aléatoire</a> </a>\n",
    "Au moyen du module `random` (`from random import *`) on dispose de générateurs aléatoires de réels et d'entiers entre deux bornes : \n",
    "<ul>\n",
    "    <li> `randint(a, b)` : entier aléatoire N compris au sens large entre les entiers a et b</li>\n",
    "    <li>`uniform(a, b)` : réel aléatoire entre a et b selon la loi uniforme </li>\n",
    "    <li>`gauss(mu, sigma)` : réel aléatoire selon la loi normale N(mu, sigma) </li> \n",
    "    <li>`seed(a)` : pour initialiser le générateur aléatoire avec la \"graine\" a. </li>\n",
    "</ul>"
   ]
  },
  {
   "cell_type": "code",
   "execution_count": 2,
   "metadata": {},
   "outputs": [
    {
     "name": "stdout",
     "output_type": "stream",
     "text": [
      "[79, 37, 66, 70, 38, 11, 40, 2, 74, 47]\n"
     ]
    }
   ],
   "source": [
    "from random import *\n",
    "\n",
    "#création d'une liste aléatoire de 10 éléments compris entre 0 et 100\n",
    "a = []  #liste vide\n",
    "for k in range (10):\n",
    "    a.append(randint(0,100))  # on rajoute à chaque tour de boucle un élément à la liste a\n",
    "print(a)"
   ]
  },
  {
   "cell_type": "markdown",
   "metadata": {},
   "source": [
    "### <a name = \"exercice-for\"><a href = \"#sommaire\"> 6.4. Exercices (FOR, Listes)</a></a>"
   ]
  },
  {
   "cell_type": "markdown",
   "metadata": {},
   "source": [
    "#### <u>EXERCICE 6</u> :  Ecrire un code qui affiche le tableau de valeur de la fonction  `exp` sur l'intervalle [-5, 8] avec un pas de 1"
   ]
  },
  {
   "cell_type": "code",
   "execution_count": null,
   "metadata": {},
   "outputs": [],
   "source": [
    "from math import *\n",
    "\n",
    "# A compléter\n"
   ]
  },
  {
   "cell_type": "markdown",
   "metadata": {},
   "source": [
    "#### <u>EXERCICE 7</u> :  Ecrire un code qui affiche le tableau de valeur de la fonction  x->2x<sup>3</sup> sur l'intervalle [3, 4] avec un pas de 0,1"
   ]
  },
  {
   "cell_type": "code",
   "execution_count": null,
   "metadata": {},
   "outputs": [],
   "source": [
    "def f(x) : \n",
    "    return 2*(x**3)\n",
    "\n",
    "#A compléter\n"
   ]
  },
  {
   "cell_type": "markdown",
   "metadata": {},
   "source": [
    "#### <u>EXERCICE 8</u> : \n",
    "Soit la suite (u<sub>n</sub>) telle que pour tout entier n :\n",
    "<ul>\n",
    "    <li>u<sub>0</sub>  =  2</li> \n",
    "    <li>u<sub>n+1</sub> = 2 u<sub>n</sub> - 1</li>\n",
    "</ul>\n",
    "<ol><li>Ecrire une fonction qui prend en argument un entier n et qui renvoie la valeur de u<sub>n</sub></li>\n",
    "    <li>Ecrire une fonction qui prend en argument un entier n et qui renvoie la somme des n premiers termes de la suite</li>\n",
    "</ol>"
   ]
  },
  {
   "cell_type": "code",
   "execution_count": null,
   "metadata": {},
   "outputs": [],
   "source": [
    "#définition de la fonction\n",
    "def suite_u(n) :\n",
    "    \n",
    "    #A compléter\n",
    "    \n",
    "    \n",
    "\n",
    "def somme_suite(n) :\n",
    "    \n",
    "    # A compléter\n",
    "\n",
    "#test de la fonction\n",
    "for i in range(5) : \n",
    "    print(suite_u(i))\n",
    "    \n",
    "print(somme_suite(5))"
   ]
  },
  {
   "cell_type": "markdown",
   "metadata": {},
   "source": [
    "#### <u>EXERCICE 9</u> : \n",
    "Ecrire une fonction qui prend en argument une liste et qui renvoie le plus petit élément de la liste.<br \\>\n",
    "On n'utilisera pas l'instruction `min(liste)` qui fait exactement ce travail, mais on pourra l'utiliser pour vérifier.<br \\>\n",
    "On testera la fonction sur une liste aléatoire d'entiers compris entre 1 et 100"
   ]
  },
  {
   "cell_type": "code",
   "execution_count": null,
   "metadata": {},
   "outputs": [],
   "source": [
    "from random import *\n",
    "\n",
    "# Fonction min_liste(liste)\n",
    "\n",
    "\n",
    "     #A compléter\n",
    "\n",
    "\n",
    "#test de la fonction : création d'une liste aléatoire liste_alea\n",
    "    \n",
    "    #A compléter\n",
    "\n",
    "\n",
    "print(liste_alea)\n",
    "print(min_liste(liste_alea))"
   ]
  },
  {
   "cell_type": "markdown",
   "metadata": {},
   "source": [
    "##  <a name = \"while\"><a href = \"#sommaire\">7. Boucle While</a> </a>\n",
    "Boucle qui permet de répéter une instruction tant qu'une condition est non nulle. Syntaxe :<br \\> <br \\>\n",
    "`while condition : `\n",
    "<blockquote> bloc d'instructions indenté à répéter</blockquote>"
   ]
  },
  {
   "cell_type": "markdown",
   "metadata": {},
   "source": [
    "### 7.1. Exemple"
   ]
  },
  {
   "cell_type": "code",
   "execution_count": 4,
   "metadata": {},
   "outputs": [
    {
     "name": "stdout",
     "output_type": "stream",
     "text": [
      "4\n",
      "8\n",
      "16\n",
      "32\n",
      "64\n",
      "128\n"
     ]
    }
   ],
   "source": [
    "#calcul des termes d'une suite\n",
    "u = 2\n",
    "while u<=100 :\n",
    "    u = 2*u\n",
    "    print(u)"
   ]
  },
  {
   "cell_type": "markdown",
   "metadata": {},
   "source": [
    "### <a name = \"exercice-while\"><a href = \"#sommaire\"> 7.2. Exercices (while)</a></a>"
   ]
  },
  {
   "cell_type": "markdown",
   "metadata": {},
   "source": [
    "#### <u>EXERCICE 10</u> : \n",
    "Ecrire un script (un code) Python qui simule le lancer d'un dé bien équilibré à 6 faces jusqu'à ce qu'on obtienne un 6. On stockera les résultats dans une liste que l'on affichera. L'instruction `randint(a, b)` du module `random` génère aléatoirement un nombre entier x tel que a &le; x &le; b"
   ]
  },
  {
   "cell_type": "code",
   "execution_count": 2,
   "metadata": {},
   "outputs": [],
   "source": [
    "from random import *\n",
    "\n",
    "# A compléter\n",
    "\n"
   ]
  },
  {
   "cell_type": "markdown",
   "metadata": {},
   "source": [
    "#### <u>EXERCICE 11</u> : Suite de Syracuse (problème 3n+1) \n",
    "<ol>\n",
    "    <li> <p> Ecrire une fonction `Syracuse(k)` qui renvoie la liste des termes de la suite de Syracuse dont le premier terme u<sub>0</sub> est égal à k. On arrêtera le calcul des termes dès que l'on tombe sur un terme égal à 1.</p>\n",
    "        <p> Pour rappel, cette suite est définie par son premier terme u<sub>0</sub> et &forall; n &in; IN : \n",
    "        <ul> \n",
    "            <li>si n est pair, u<sub>n+1</sub> = 0,5 u<sub>n</sub> </li>\n",
    "            <li>si n est impair, u<sub>n+1</sub> = 3 u<sub>n</sub> + 1 </li>\n",
    "        </ul>\n",
    "        </p>\n",
    "    <li> Trouver parmi les 1000 premiers entiers quelle doit être la valeur k de départ pour avoir la suite la plus longue possible avant de retomber sur 1. <br \\>\n",
    "    Le problème toujours ouvert est de savoir si quel que soit k, un des termes de la suite finit toujours par être égal à 1 (ce qui donne ensuite la séquence infinie : 1-4-2-1-4-2-1...)  </li>\n",
    "</ol>\n",
    "       "
   ]
  },
  {
   "cell_type": "code",
   "execution_count": null,
   "metadata": {},
   "outputs": [],
   "source": [
    "# A compléter\n",
    "\n",
    "\n",
    "\n",
    "\n",
    "\n"
   ]
  },
  {
   "cell_type": "markdown",
   "metadata": {},
   "source": [
    "#### <u>EXERCICE 12</u> : Jeu du plus grand / Plus petit\n",
    "Programmer ce jeu : l'ordinateur choisit un nombre entier aléatoire entre 0 et 100 et vous demande de trouver ce nombre.\n",
    "Après chacune de vos réponses, il vous indique si votre nombre est plus grand ou plus petit que le nombre mystère. Quand vous avez trouvé le nombre, il vous écrit \"bravo\" et vous indique combien d'essais vous avez mis pour trouver ce nombre."
   ]
  },
  {
   "cell_type": "code",
   "execution_count": null,
   "metadata": {},
   "outputs": [],
   "source": [
    "# A compléter\n",
    "\n",
    "\n"
   ]
  },
  {
   "cell_type": "markdown",
   "metadata": {},
   "source": [
    "#### <u>EXERCICE 13</u> : Dichotomie\n",
    "On considère la fonction f : x &rarr; x<sup>3</sup> + x - 1, strictement croissante sur [0 ; 1] et qui change de signe sur cet intervalle. Programmer un algorithme de dichotomie donnant une solution approchée de l'équation `f(x) = 0` à 10<sup>-3</sup> près."
   ]
  },
  {
   "cell_type": "code",
   "execution_count": null,
   "metadata": {},
   "outputs": [],
   "source": [
    "# A compléter\n",
    "\n",
    "\n",
    "\n"
   ]
  },
  {
   "cell_type": "markdown",
   "metadata": {},
   "source": [
    "##  <a name = \"graphiques\"><a href = \"#sommaire\">8. Graphiques </a> </a>\n",
    "Python possède une foule de librairies scientifiques, Python est extrêmement utilisé dans la recherche en raison justement de ces librairies (interfaçage facile avec R par exemple). Parmi les librairies les plus utilisées, on peut mentionner, <strong>`matplotlib`</strong> : pour les graphiques, le traitement d'images, <strong>`numpy`</strong> et <strong>`scipy`</strong> etc qui fournissent également des gestions simples de matrices et tableaux pour l'algèbre linéaire."
   ]
  },
  {
   "cell_type": "markdown",
   "metadata": {},
   "source": [
    "### <a name = \"import\"><a href = \"#sommaire\">8.1. Précision sur la notion d'import de modules</a></a>\n",
    "<p>On a vu qu'on pouvait importer des modules (encore appelées librairies) au moyen de l'instruction : </p>\n",
    "<p>`from module import *`</p>\n",
    "<p>Ceci rajoute à l'espace de noms reconnus par Python tous les noms de fonctions définies dans le module importé.<br \\>\n",
    "On pourrait n'importer que certaines fonctions du module en remplaçant `*` par le nom de la fonction qui nous intéresse, par exemple : </p>\n",
    "<p>`from random import randint`</p>\n",
    "<p> Le souci de cette manière d'importer, quand on importe beaucoup de librairies est qu'on ne sait plus, quand on utilise une fonction, à quel module elle appartient. Une autre façon de faire est d'utiliser l'instruction : </p>\n",
    "<p>`import module`</p>\n",
    "<p> Alors, pour utiliser dans le code les fonctions du module importé, il faudra utiliser la syntaxe : `module.fonction()`</p>\n",
    "<p> Comme parfois certains modules ont des noms longs et que l'on utilise en fait des fonctions d'un sous-module du module (pratiquement, ce sont des sous-dossiers d'un dossier portant le nom du module), on utilise des alias afin de raccourcir la syntaxe : </p>\n",
    "<p>`import module as alias` </p>"
   ]
  },
  {
   "cell_type": "code",
   "execution_count": 7,
   "metadata": {},
   "outputs": [
    {
     "name": "stdout",
     "output_type": "stream",
     "text": [
      "[ 0.          0.20408163  0.40816327  0.6122449   0.81632653  1.02040816\n",
      "  1.2244898   1.42857143  1.63265306  1.83673469  2.04081633  2.24489796\n",
      "  2.44897959  2.65306122  2.85714286  3.06122449  3.26530612  3.46938776\n",
      "  3.67346939  3.87755102  4.08163265  4.28571429  4.48979592  4.69387755\n",
      "  4.89795918  5.10204082  5.30612245  5.51020408  5.71428571  5.91836735\n",
      "  6.12244898  6.32653061  6.53061224  6.73469388  6.93877551  7.14285714\n",
      "  7.34693878  7.55102041  7.75510204  7.95918367  8.16326531  8.36734694\n",
      "  8.57142857  8.7755102   8.97959184  9.18367347  9.3877551   9.59183673\n",
      "  9.79591837 10.        ]\n"
     ]
    }
   ],
   "source": [
    "import matplotlib.pyplot as plt\n",
    "import numpy as np \n",
    "\n",
    "a = np.linspace(0, 10, 50)  #linspace(debut, fin, n) crée une liste de n valeurs régulièrement espacées sur [debut, fin] \n",
    "print(a)"
   ]
  },
  {
   "cell_type": "markdown",
   "metadata": {},
   "source": [
    "### 8.2. Graphe d'une fonction"
   ]
  },
  {
   "cell_type": "code",
   "execution_count": 10,
   "metadata": {},
   "outputs": [
    {
     "data": {
      "image/png": "[encoded data removed]",
      "text/plain": [
       "<Figure size 432x288 with 1 Axes>"
      ]
     },
     "metadata": {},
     "output_type": "display_data"
    }
   ],
   "source": [
    "import matplotlib.pyplot as plt  #pyplot est un sous-module de matplotlib, et plt sera l'alias de matplotlib.pyplot\n",
    "import numpy as np\n",
    "x = np.linspace(0, 3*np.pi, 500)  \n",
    "plt.plot(x, np.sin(x**2))        #plot(liste, f(liste)) trace le graphe de f évaluée en chaque valeur de la liste\n",
    "plt.title('graphe de la fonction x->sin(x²) sur [0, 3pi], avec 500 valeurs')\n",
    "plt.grid(True)\n",
    "plt.show()"
   ]
  },
  {
   "cell_type": "markdown",
   "metadata": {},
   "source": [
    "On peut rajouter des axes, changer les graduations, tracer plusieurs courbes : se référer à la documentation et aux nombreux exemples en ligne utilisant `matplotlib`  et `pyplot`. On peut tracer avec ces librairies tout type de graphique imaginable (diagrammes en boîte, en batons, circulaires, lignes de niveaux, nuages de points etc...)"
   ]
  },
  {
   "cell_type": "markdown",
   "metadata": {},
   "source": [
    "##  <a name = \"aller_plus_loin\"><a href = \"#sommaire\">9. Aller plus loin </a> </a>\n",
    "\n",
    "###  <a name = \"local_global\"><a href = \"#sommaire\">9.1. Variables locales / globales </a> </a>\n",
    "Examiner cet exemple :"
   ]
  },
  {
   "cell_type": "code",
   "execution_count": 12,
   "metadata": {},
   "outputs": [
    {
     "name": "stdout",
     "output_type": "stream",
     "text": [
      "3\n"
     ]
    }
   ],
   "source": [
    "a = 3   #variable globale\n",
    "\n",
    "def f():\n",
    "    a = 5   #variable locale\n",
    "\n",
    "f()\n",
    "print(a)"
   ]
  },
  {
   "cell_type": "markdown",
   "metadata": {},
   "source": [
    "On a appelé la fonction f qui attribue à `a` la valeur 5, pourtant, quand on affiche `a`, cette modification n'est pas prise en compte. On ne peut pas changer ainsi la valeur d'une variable déclarée à l'extérieur de la fonction. Le `a` utilisé à l'intérieur de la fonction est une variable <strong>locale</strong>, dont l'existence est limitée au bloc de la fonction : une fois la fonction exécutée, cette variable locale est détruite. Pour que le `a` utilisé à l'intérieur de la fonction se réfère à la variable `a` déclarée ligne 1, à l'extérieur de la fonction (une telle variable est dite <strong>globale</strong>) il faut le lui préciser explicitement à l'aide du mot clé : <strong>`global`</strong>"
   ]
  },
  {
   "cell_type": "code",
   "execution_count": 13,
   "metadata": {},
   "outputs": [
    {
     "name": "stdout",
     "output_type": "stream",
     "text": [
      "5\n"
     ]
    }
   ],
   "source": [
    "a = 3    #variable globale\n",
    "\n",
    "def f():\n",
    "    global a\n",
    "    a = 5      #a est global \n",
    "\n",
    "f()\n",
    "print(a)"
   ]
  },
  {
   "cell_type": "markdown",
   "metadata": {},
   "source": [
    "Par contre, on peut utiliser la valeur d'une variable globale à l'intérieur d'une fonction (mais de l'autre côté du = ), sans avoir à préciser qu'il s'agit d'une variable globale. Python cherche s'il y a une variable `a` déclarée dans la fonction, et s'il ne la trouve pas, il cherche s'il en existe une dans l'espace global de noms :"
   ]
  },
  {
   "cell_type": "code",
   "execution_count": 22,
   "metadata": {},
   "outputs": [
    {
     "name": "stdout",
     "output_type": "stream",
     "text": [
      "6\n"
     ]
    }
   ],
   "source": [
    "a = 3\n",
    "\n",
    "def f():\n",
    "    x = 2*a      #le a est forcément global, puisqu'il n'y a pas de a local déclaré avant\n",
    "    return x\n",
    "\n",
    "print(f())"
   ]
  },
  {
   "cell_type": "markdown",
   "metadata": {},
   "source": [
    "Pour voir que les variables déclarées à l'intérieur des fonctions n'existent plus en dehors de leur corps, on peut examiner ce code :"
   ]
  },
  {
   "cell_type": "code",
   "execution_count": 23,
   "metadata": {},
   "outputs": [
    {
     "ename": "NameError",
     "evalue": "name 'baba' is not defined",
     "output_type": "error",
     "traceback": [
      "\u001b[1;31m---------------------------------------------------------------------------\u001b[0m",
      "\u001b[1;31mNameError\u001b[0m                                 Traceback (most recent call last)",
      "\u001b[1;32m<ipython-input-23-490ab020503f>\u001b[0m in \u001b[0;36m<module>\u001b[1;34m()\u001b[0m\n\u001b[0;32m      3\u001b[0m \u001b[1;33m\u001b[0m\u001b[0m\n\u001b[0;32m      4\u001b[0m \u001b[0mf\u001b[0m\u001b[1;33m(\u001b[0m\u001b[1;33m)\u001b[0m\u001b[1;33m\u001b[0m\u001b[0m\n\u001b[1;32m----> 5\u001b[1;33m \u001b[0mprint\u001b[0m\u001b[1;33m(\u001b[0m\u001b[0mbaba\u001b[0m\u001b[1;33m)\u001b[0m\u001b[1;33m\u001b[0m\u001b[0m\n\u001b[0m",
      "\u001b[1;31mNameError\u001b[0m: name 'baba' is not defined"
     ]
    }
   ],
   "source": [
    "def f():\n",
    "    baba = 2\n",
    "    \n",
    "f()\n",
    "print(baba)"
   ]
  },
  {
   "cell_type": "markdown",
   "metadata": {},
   "source": [
    "<p>On obtient une erreur, car Python ne retrouve pas la variable baba dans l'espace de noms, bien que f ait été appelée. baba a été détruite à la fin de l'exécution de celle-ci.</p>\n",
    "<p> Dernier exemple : conflit entre variable locale et globale : la variable locale l'emporte : Python cherche sans injonction contraire (avec le mot clé global) les valeurs des variables d'abord dans l'espace local de noms, avant de regarder dans l'espace global de noms : <p>"
   ]
  },
  {
   "cell_type": "code",
   "execution_count": 20,
   "metadata": {},
   "outputs": [
    {
     "name": "stdout",
     "output_type": "stream",
     "text": [
      "5 3\n"
     ]
    }
   ],
   "source": [
    "a = 3\n",
    "def f():\n",
    "    a = 5\n",
    "    x = a      # x va prendre la valeur de la variable locale si elle existe en priorité.\n",
    "    return(x)\n",
    "print(f(), a)"
   ]
  },
  {
   "cell_type": "markdown",
   "metadata": {},
   "source": [
    "###  <a name = \"arguments\"><a href = \"#sommaire\">9.2. Arguments d'une fonction </a> </a>\n",
    "Examiner le code suivant : "
   ]
  },
  {
   "cell_type": "code",
   "execution_count": 25,
   "metadata": {},
   "outputs": [
    {
     "name": "stdout",
     "output_type": "stream",
     "text": [
      "1\n"
     ]
    }
   ],
   "source": [
    "def f(a) : \n",
    "    a = 6\n",
    "    return\n",
    "\n",
    "a = 1\n",
    "f(a)\n",
    "print(a)"
   ]
  },
  {
   "cell_type": "markdown",
   "metadata": {},
   "source": [
    "Quand on appelle f(a), Python réalise <strong>une copie</strong> de la variable `a`, utilise la valeur cette copie dans le corps de la fonction f, mais ne touche pas à la variable `a` de départ. C'est bien normal, car il faut imaginer qu'on importe des fonctions de modules que l'on n'a pas forcément écrits, et qu'on ne sait pas forcément quels sont les noms de variables utilisés pour écrire ces fonctions. On ne voudrait pas, du fait qu'un argument ait sans qu'on le sache le même nom qu'une variable qu'on utilise, que notre variable puisse être modifiée par l'utilisation de cette fonction."
   ]
  },
  {
   "cell_type": "markdown",
   "metadata": {},
   "source": [
    "###  <a name = \"copie\"><a href = \"#sommaire\">9.3. Copie d'un objet Python </a> </a>"
   ]
  },
  {
   "cell_type": "markdown",
   "metadata": {},
   "source": [
    "Python est un langage objet, ce qu'on a pu voir par moment dans des syntaxes telles que `list.append()` : où la fonction append est rattachée à un objet de type liste. On appelle une telle fonction : <strong>méthode</strong>. Ceci a une implication sur la copie des variables : examiner les codes suivants :"
   ]
  },
  {
   "cell_type": "code",
   "execution_count": 26,
   "metadata": {},
   "outputs": [
    {
     "name": "stdout",
     "output_type": "stream",
     "text": [
      "3\n"
     ]
    }
   ],
   "source": [
    "a = 3\n",
    "b = a\n",
    "a = 5\n",
    "print(b)"
   ]
  },
  {
   "cell_type": "markdown",
   "metadata": {},
   "source": [
    "Rien d'anormal a priori : la variable `a` a été modifiée après `b`, donc `b` n'est pas impacté. Maintenant observer ce code : "
   ]
  },
  {
   "cell_type": "code",
   "execution_count": 27,
   "metadata": {},
   "outputs": [
    {
     "name": "stdout",
     "output_type": "stream",
     "text": [
      "[2, 3, 5, 6]\n"
     ]
    }
   ],
   "source": [
    "a = [2, 3, 5]\n",
    "b = a\n",
    "a.append(6)\n",
    "print(b)"
   ]
  },
  {
   "cell_type": "markdown",
   "metadata": {},
   "source": [
    "<p>Bien que `a` ait été modifiée après `b`, `b` est impacté par le changement fait sur l'objet a. L'assignation `b = a` crée un lien reliant le nom `b` à l'emplacement mémoire référencé par `a` : ainsi, les noms a et b pointent tous deux vers le même emplacement mémoire, et toute modification des données en utilisant les méthodes relatives à l'objet référencé affecte à la fois `a` et `b`. On dit que b est un <strong>`alias`</strong> de l'emplacement mémoire référencé initialmeent par a. Ce procédé ne marche que pour les objets <strong>mutables</strong> : les objets ayant des méthodes permettant de les modifier, mais pas les objets <strong>immuables</strong>, comme les entiers, les chaines de caractères...</p>\n",
    "<p>On pourra consulter <a href = \"https://zestedesavoir.com/tutoriels/954/notions-de-python-avancees/1-starters/3-mutables-hashables/\">ce lien</a> pour comprendre plus en détail ce fonctionnement, et cette notion de mutable / immuable, la différence entre réassignation et modification de l'objet, ou bien <a href = \"https://miamondo.org/2017/02/16/python-copier-une-liste-avec-le-module-copy/\">celui-ci</a> pour d'autres subtilités liées à ces problèmes de références.</p>"
   ]
  },
  {
   "cell_type": "code",
   "execution_count": null,
   "metadata": {},
   "outputs": [],
   "source": []
  }
 ],
 "metadata": {
  "kernelspec": {
   "display_name": "Python 3",
   "language": "python",
   "name": "python3"
  },
  "language_info": {
   "codemirror_mode": {
    "name": "ipython",
    "version": 3
   },
   "file_extension": ".py",
   "mimetype": "text/x-python",
   "name": "python",
   "nbconvert_exporter": "python",
   "pygments_lexer": "ipython3",
   "version": "3.6.5"
  }
 },
 "nbformat": 4,
 "nbformat_minor": 2
}
